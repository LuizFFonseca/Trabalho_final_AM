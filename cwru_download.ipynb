{
 "cells": [
  {
   "cell_type": "code",
   "execution_count": null,
   "metadata": {},
   "outputs": [],
   "source": [
    "import os\n",
    "import scipy.io\n",
    "import pandas as pd"
   ]
  },
  {
   "cell_type": "code",
   "execution_count": null,
   "metadata": {},
   "outputs": [],
   "source": [
    "# Definir o caminho do diretório principal onde estão os arquivos .mat\n",
    "root_directory = r'C:\\Clone\\CWRU-dataset'\n",
    "\n",
    "# Inicializar uma lista para armazenar os dados\n",
    "data = []\n",
    "\n",
    "# Percorrer todas as pastas e subpastas\n",
    "for root, dirs, files in os.walk(root_directory):\n",
    "    relative_path = os.path.relpath(root, root_directory)\n",
    "    first_folder = relative_path.split(os.sep)[0]\n",
    "    \n",
    "    for file in files:\n",
    "        if file.endswith('.mat'):\n",
    "\n",
    "            fault_type = 'normal'\n",
    "            fault_location = 'normal'\n",
    "            fault_size = 0\n",
    "            sample_freq = True\n",
    "\n",
    "\n",
    "            # Carregar o arquivo .mat\n",
    "            file_path = os.path.join(root, file)\n",
    "            mat_data = scipy.io.loadmat(file_path)\n",
    "\n",
    "            if first_folder == \"Normal\":\n",
    "                fault_type = 'normal'\n",
    "                fault_location = 'normal'\n",
    "                fault_size = 0\n",
    "                sample_freq = False\n",
    "\n",
    "            elif first_folder == \"12k_Drive_End_Bearing_Fault_Data\":\n",
    "                relative_path = os.path.relpath(root, root_directory)\n",
    "                fault_location = 'DE'\n",
    "                sample_freq = True\n",
    "\n",
    "            elif first_folder == \"48k_Drive_End_Bearing_Fault_Data\":\n",
    "                fault_location = 'DE'\n",
    "                sample_freq = False\n",
    "\n",
    "            elif first_folder == \"12k_Fan_End_Bearing_Fault_Data\":\n",
    "                fault_location = 'FE'\n",
    "                sample_freq = True\n",
    "                \n",
    "\n",
    "            \n",
    "            \n",
    "\n",
    "            if first_folder != 'Normal':\n",
    "                relative = os.path.relpath(file, relative_path)\n",
    "\n",
    "                fault_size = int(relative_path.split(os.sep)[2])\n",
    "                fault_type = relative_path.split(os.sep)[1]\n",
    "                \n",
    "                \n",
    "\n",
    "\n",
    "\n",
    "\n",
    "            load = file[-5]\n",
    "\n",
    "            \n",
    "            # Inicializar dicionário para armazenar os sinais DE e FE\n",
    "            signals = {'fault_type': fault_type, 'fault_location' : fault_location, 'fault_size' : fault_size, 'load':load, '12K': sample_freq, 'DE': None, 'FE': None, 'BA': None}\n",
    "            \n",
    "            # Percorrer as chaves e valores do .mat para identificar as colunas desejadas\n",
    "            for key in mat_data:\n",
    "                if 'FE_time' in key:\n",
    "                    signals['FE'] = mat_data[key].flatten().tolist()\n",
    "                elif 'DE_time' in key:\n",
    "                    signals['DE'] = mat_data[key].flatten().tolist()\n",
    "                elif 'BA_time' in key:\n",
    "                    signals['BA'] = mat_data[key].flatten().tolist()\n",
    "            \n",
    "            # Adicionar o sinal ao nosso dataset se tiver pelo menos um dos sinais\n",
    "            data.append(signals)\n",
    "\n",
    "# Criar o DataFrame com as listas dos sinais\n",
    "df = pd.DataFrame(data)\n",
    "\n",
    "# Exibir o DataFrame\n",
    "df.head()\n"
   ]
  },
  {
   "cell_type": "code",
   "execution_count": null,
   "metadata": {},
   "outputs": [],
   "source": [
    "df.replace(\n",
    "    to_replace={\n",
    "        'B': 'ball',\n",
    "        'OR': 'outer',\n",
    "        'IR': 'inner'},\n",
    "    inplace=True)\n",
    "df['fault_type'].unique()"
   ]
  },
  {
   "cell_type": "code",
   "execution_count": null,
   "metadata": {},
   "outputs": [],
   "source": [
    "# Defining labels\n",
    "labels = pd.Series([df['fault_type'][i] + '-' + str(df['fault_size'][i])\n",
    "                    for i in range(len(df))]).replace({'normal-0': 'normal'})\n",
    "classes = sorted(labels.unique())\n",
    "classes"
   ]
  },
  {
   "cell_type": "code",
   "execution_count": null,
   "metadata": {},
   "outputs": [],
   "source": [
    "# Adding class labels in the resulting df\n",
    "df.insert(4, 'label', [classes.index(label) for label in labels])\n"
   ]
  },
  {
   "cell_type": "code",
   "execution_count": null,
   "metadata": {},
   "outputs": [],
   "source": [
    "print(df.shape)\n",
    "df.head(10)"
   ]
  },
  {
   "cell_type": "code",
   "execution_count": null,
   "metadata": {},
   "outputs": [],
   "source": [
    "df.to_pickle(r\"G:\\Meu Drive\\Scripts\\Pos\\Aprendizadomaquina\\Trabalho_final\\data\\cwru.pkl\")"
   ]
  }
 ],
 "metadata": {
  "language_info": {
   "name": "python"
  }
 },
 "nbformat": 4,
 "nbformat_minor": 2
}
